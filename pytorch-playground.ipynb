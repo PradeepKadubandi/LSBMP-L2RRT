{
 "cells": [
  {
   "cell_type": "code",
   "execution_count": 10,
   "metadata": {},
   "outputs": [],
   "source": [
    "import torch\n",
    "import torch.nn as nn\n",
    "import torch.nn.functional as F\n",
    "import numpy as np"
   ]
  },
  {
   "cell_type": "code",
   "execution_count": 21,
   "metadata": {},
   "outputs": [],
   "source": [
    "import autograd_hacks"
   ]
  },
  {
   "cell_type": "code",
   "execution_count": 26,
   "metadata": {},
   "outputs": [
    {
     "name": "stdout",
     "output_type": "stream",
     "text": [
      "torch.Size([2, 3])\n",
      "tensor([[1., 1., 1.],\n",
      "        [1., 1., 1.]])\n"
     ]
    }
   ],
   "source": [
    "t = torch.ones([2,3])\n",
    "print (t.size())\n",
    "new = torch.ones(t.size())\n",
    "print (new)"
   ]
  },
  {
   "cell_type": "code",
   "execution_count": 19,
   "metadata": {},
   "outputs": [
    {
     "name": "stdout",
     "output_type": "stream",
     "text": [
      "tensor([[5., 5., 5., 2., 2.],\n",
      "        [5., 5., 5., 2., 2.],\n",
      "        [5., 5., 5., 2., 2.],\n",
      "        [5., 5., 5., 2., 2.],\n",
      "        [5., 5., 5., 2., 2.]], grad_fn=<CatBackward>)\n",
      "tensor([[-0.7835, -5.0028],\n",
      "        [-0.7835, -5.0028],\n",
      "        [-0.7835, -5.0028],\n",
      "        [-0.7835, -5.0028],\n",
      "        [-0.7835, -5.0028]], grad_fn=<AddmmBackward>)\n"
     ]
    },
    {
     "ename": "RuntimeError",
     "evalue": "grad can be implicitly created only for scalar outputs",
     "output_type": "error",
     "traceback": [
      "\u001b[0;31m---------------------------------------------------------------------------\u001b[0m",
      "\u001b[0;31mRuntimeError\u001b[0m                              Traceback (most recent call last)",
      "\u001b[0;32m<ipython-input-19-0ceb05acb219>\u001b[0m in \u001b[0;36m<module>\u001b[0;34m\u001b[0m\n\u001b[1;32m      9\u001b[0m \u001b[0mzp_predict1\u001b[0m \u001b[0;34m=\u001b[0m \u001b[0moutput\u001b[0m\u001b[0;34m[\u001b[0m\u001b[0;34m:\u001b[0m\u001b[0;34m,\u001b[0m \u001b[0;36m0\u001b[0m\u001b[0;34m]\u001b[0m\u001b[0;34m\u001b[0m\u001b[0;34m\u001b[0m\u001b[0m\n\u001b[1;32m     10\u001b[0m \u001b[0mzp_predict2\u001b[0m \u001b[0;34m=\u001b[0m \u001b[0moutput\u001b[0m\u001b[0;34m[\u001b[0m\u001b[0;34m:\u001b[0m\u001b[0;34m,\u001b[0m \u001b[0;36m1\u001b[0m\u001b[0;34m]\u001b[0m\u001b[0;34m\u001b[0m\u001b[0;34m\u001b[0m\u001b[0m\n\u001b[0;32m---> 11\u001b[0;31m \u001b[0mgrad_zp1_zc\u001b[0m \u001b[0;34m=\u001b[0m \u001b[0mtorch\u001b[0m\u001b[0;34m.\u001b[0m\u001b[0mautograd\u001b[0m\u001b[0;34m.\u001b[0m\u001b[0mgrad\u001b[0m\u001b[0;34m(\u001b[0m\u001b[0mzp_predict1\u001b[0m\u001b[0;34m,\u001b[0m \u001b[0mzc\u001b[0m\u001b[0;34m)\u001b[0m\u001b[0;34m\u001b[0m\u001b[0;34m\u001b[0m\u001b[0m\n\u001b[0m\u001b[1;32m     12\u001b[0m \u001b[0mprint\u001b[0m \u001b[0;34m(\u001b[0m\u001b[0mzc\u001b[0m\u001b[0;34m.\u001b[0m\u001b[0mgrad\u001b[0m\u001b[0;34m)\u001b[0m\u001b[0;34m\u001b[0m\u001b[0;34m\u001b[0m\u001b[0m\n\u001b[1;32m     13\u001b[0m \u001b[0mzc\u001b[0m\u001b[0;34m.\u001b[0m\u001b[0mgrad\u001b[0m\u001b[0;34m.\u001b[0m\u001b[0mzero_\u001b[0m\u001b[0;34m(\u001b[0m\u001b[0;34m)\u001b[0m\u001b[0;34m\u001b[0m\u001b[0;34m\u001b[0m\u001b[0m\n",
      "\u001b[0;32m~/.local/share/virtualenvs/LSBMP-L2RRT-AlqjJP_-/lib/python3.7/site-packages/torch/autograd/__init__.py\u001b[0m in \u001b[0;36mgrad\u001b[0;34m(outputs, inputs, grad_outputs, retain_graph, create_graph, only_inputs, allow_unused)\u001b[0m\n\u001b[1;32m    148\u001b[0m         \u001b[0mgrad_outputs\u001b[0m \u001b[0;34m=\u001b[0m \u001b[0mlist\u001b[0m\u001b[0;34m(\u001b[0m\u001b[0mgrad_outputs\u001b[0m\u001b[0;34m)\u001b[0m\u001b[0;34m\u001b[0m\u001b[0;34m\u001b[0m\u001b[0m\n\u001b[1;32m    149\u001b[0m \u001b[0;34m\u001b[0m\u001b[0m\n\u001b[0;32m--> 150\u001b[0;31m     \u001b[0mgrad_outputs\u001b[0m \u001b[0;34m=\u001b[0m \u001b[0m_make_grads\u001b[0m\u001b[0;34m(\u001b[0m\u001b[0moutputs\u001b[0m\u001b[0;34m,\u001b[0m \u001b[0mgrad_outputs\u001b[0m\u001b[0;34m)\u001b[0m\u001b[0;34m\u001b[0m\u001b[0;34m\u001b[0m\u001b[0m\n\u001b[0m\u001b[1;32m    151\u001b[0m \u001b[0;34m\u001b[0m\u001b[0m\n\u001b[1;32m    152\u001b[0m     \u001b[0;32mif\u001b[0m \u001b[0mretain_graph\u001b[0m \u001b[0;32mis\u001b[0m \u001b[0;32mNone\u001b[0m\u001b[0;34m:\u001b[0m\u001b[0;34m\u001b[0m\u001b[0;34m\u001b[0m\u001b[0m\n",
      "\u001b[0;32m~/.local/share/virtualenvs/LSBMP-L2RRT-AlqjJP_-/lib/python3.7/site-packages/torch/autograd/__init__.py\u001b[0m in \u001b[0;36m_make_grads\u001b[0;34m(outputs, grads)\u001b[0m\n\u001b[1;32m     32\u001b[0m             \u001b[0;32mif\u001b[0m \u001b[0mout\u001b[0m\u001b[0;34m.\u001b[0m\u001b[0mrequires_grad\u001b[0m\u001b[0;34m:\u001b[0m\u001b[0;34m\u001b[0m\u001b[0;34m\u001b[0m\u001b[0m\n\u001b[1;32m     33\u001b[0m                 \u001b[0;32mif\u001b[0m \u001b[0mout\u001b[0m\u001b[0;34m.\u001b[0m\u001b[0mnumel\u001b[0m\u001b[0;34m(\u001b[0m\u001b[0;34m)\u001b[0m \u001b[0;34m!=\u001b[0m \u001b[0;36m1\u001b[0m\u001b[0;34m:\u001b[0m\u001b[0;34m\u001b[0m\u001b[0;34m\u001b[0m\u001b[0m\n\u001b[0;32m---> 34\u001b[0;31m                     \u001b[0;32mraise\u001b[0m \u001b[0mRuntimeError\u001b[0m\u001b[0;34m(\u001b[0m\u001b[0;34m\"grad can be implicitly created only for scalar outputs\"\u001b[0m\u001b[0;34m)\u001b[0m\u001b[0;34m\u001b[0m\u001b[0;34m\u001b[0m\u001b[0m\n\u001b[0m\u001b[1;32m     35\u001b[0m                 \u001b[0mnew_grads\u001b[0m\u001b[0;34m.\u001b[0m\u001b[0mappend\u001b[0m\u001b[0;34m(\u001b[0m\u001b[0mtorch\u001b[0m\u001b[0;34m.\u001b[0m\u001b[0mones_like\u001b[0m\u001b[0;34m(\u001b[0m\u001b[0mout\u001b[0m\u001b[0;34m)\u001b[0m\u001b[0;34m)\u001b[0m\u001b[0;34m\u001b[0m\u001b[0;34m\u001b[0m\u001b[0m\n\u001b[1;32m     36\u001b[0m             \u001b[0;32melse\u001b[0m\u001b[0;34m:\u001b[0m\u001b[0;34m\u001b[0m\u001b[0;34m\u001b[0m\u001b[0m\n",
      "\u001b[0;31mRuntimeError\u001b[0m: grad can be implicitly created only for scalar outputs"
     ]
    }
   ],
   "source": [
    "N, u_dim, z_dim, out_dim = 5, 2, 3, 2\n",
    "zc = 5 * torch.ones(N, z_dim, requires_grad=True)\n",
    "uc = 2 * torch.ones(N, u_dim, requires_grad=True)\n",
    "input = torch.cat((zc, uc), dim=1)\n",
    "print (input)\n",
    "layer = nn.Linear(z_dim + u_dim, out_dim)\n",
    "output = layer(input)\n",
    "print (output)\n",
    "zp_predict1 = output[:, 0]\n",
    "zp_predict2 = output[:, 1]\n",
    "grad_zp1_zc = torch.autograd.grad(zp_predict1, zc)\n",
    "print (zc.grad)\n",
    "zc.grad.zero_()\n",
    "grad_zp2_zc = torch.autograd.grad(zp_predict2, zc)\n",
    "print (zc.grad)\n",
    "zc.grad.zero_()\n",
    "grad_zp1_uc = torch.autograd.grad(zp_predict1, uc)\n",
    "print (uc.grad)\n",
    "uc.grad.zero_()\n",
    "grad_zp2_uc = torch.autograd.grad(zp_predict2, uc)\n",
    "print (uc.grad)\n",
    "uc.grad.zero_()\n"
   ]
  },
  {
   "cell_type": "code",
   "execution_count": 20,
   "metadata": {},
   "outputs": [
    {
     "name": "stdout",
     "output_type": "stream",
     "text": [
      "tensor([[5., 5., 5., 2., 2.],\n",
      "        [5., 5., 5., 2., 2.],\n",
      "        [5., 5., 5., 2., 2.],\n",
      "        [5., 5., 5., 2., 2.],\n",
      "        [5., 5., 5., 2., 2.]], grad_fn=<CatBackward>)\n",
      "tensor([[ 2.0257, -0.2668],\n",
      "        [ 2.0257, -0.2668],\n",
      "        [ 2.0257, -0.2668],\n",
      "        [ 2.0257, -0.2668],\n",
      "        [ 2.0257, -0.2668]], grad_fn=<AddmmBackward>)\n",
      "None\n"
     ]
    },
    {
     "ename": "AttributeError",
     "evalue": "'NoneType' object has no attribute 'zero_'",
     "output_type": "error",
     "traceback": [
      "\u001b[0;31m---------------------------------------------------------------------------\u001b[0m",
      "\u001b[0;31mAttributeError\u001b[0m                            Traceback (most recent call last)",
      "\u001b[0;32m<ipython-input-20-7b34cc5c24c1>\u001b[0m in \u001b[0;36m<module>\u001b[0;34m\u001b[0m\n\u001b[1;32m     11\u001b[0m \u001b[0mgrad_zp1_zc\u001b[0m \u001b[0;34m=\u001b[0m \u001b[0mtorch\u001b[0m\u001b[0;34m.\u001b[0m\u001b[0mautograd\u001b[0m\u001b[0;34m.\u001b[0m\u001b[0mgrad\u001b[0m\u001b[0;34m(\u001b[0m\u001b[0mzp_predict1\u001b[0m\u001b[0;34m,\u001b[0m \u001b[0mzc\u001b[0m\u001b[0;34m,\u001b[0m \u001b[0mgrad_outputs\u001b[0m\u001b[0;34m=\u001b[0m\u001b[0mtorch\u001b[0m\u001b[0;34m.\u001b[0m\u001b[0mones\u001b[0m\u001b[0;34m(\u001b[0m\u001b[0;34m[\u001b[0m\u001b[0mN\u001b[0m\u001b[0;34m,\u001b[0m\u001b[0;34m]\u001b[0m\u001b[0;34m)\u001b[0m\u001b[0;34m)\u001b[0m\u001b[0;34m\u001b[0m\u001b[0;34m\u001b[0m\u001b[0m\n\u001b[1;32m     12\u001b[0m \u001b[0mprint\u001b[0m \u001b[0;34m(\u001b[0m\u001b[0mzc\u001b[0m\u001b[0;34m.\u001b[0m\u001b[0mgrad\u001b[0m\u001b[0;34m)\u001b[0m\u001b[0;34m\u001b[0m\u001b[0;34m\u001b[0m\u001b[0m\n\u001b[0;32m---> 13\u001b[0;31m \u001b[0mzc\u001b[0m\u001b[0;34m.\u001b[0m\u001b[0mgrad\u001b[0m\u001b[0;34m.\u001b[0m\u001b[0mzero_\u001b[0m\u001b[0;34m(\u001b[0m\u001b[0;34m)\u001b[0m\u001b[0;34m\u001b[0m\u001b[0;34m\u001b[0m\u001b[0m\n\u001b[0m\u001b[1;32m     14\u001b[0m \u001b[0mgrad_zp2_zc\u001b[0m \u001b[0;34m=\u001b[0m \u001b[0mtorch\u001b[0m\u001b[0;34m.\u001b[0m\u001b[0mautograd\u001b[0m\u001b[0;34m.\u001b[0m\u001b[0mgrad\u001b[0m\u001b[0;34m(\u001b[0m\u001b[0mzp_predict2\u001b[0m\u001b[0;34m,\u001b[0m \u001b[0mzc\u001b[0m\u001b[0;34m)\u001b[0m\u001b[0;34m\u001b[0m\u001b[0;34m\u001b[0m\u001b[0m\n\u001b[1;32m     15\u001b[0m \u001b[0mprint\u001b[0m \u001b[0;34m(\u001b[0m\u001b[0mzc\u001b[0m\u001b[0;34m.\u001b[0m\u001b[0mgrad\u001b[0m\u001b[0;34m)\u001b[0m\u001b[0;34m\u001b[0m\u001b[0;34m\u001b[0m\u001b[0m\n",
      "\u001b[0;31mAttributeError\u001b[0m: 'NoneType' object has no attribute 'zero_'"
     ]
    }
   ],
   "source": [
    "N, u_dim, z_dim, out_dim = 5, 2, 3, 2\n",
    "zc = 5 * torch.ones(N, z_dim, requires_grad=True)\n",
    "uc = 2 * torch.ones(N, u_dim, requires_grad=True)\n",
    "input = torch.cat((zc, uc), dim=1)\n",
    "print (input)\n",
    "layer = nn.Linear(z_dim + u_dim, out_dim)\n",
    "output = layer(input)\n",
    "print (output)\n",
    "zp_predict1 = output[:, 0]\n",
    "zp_predict2 = output[:, 1]\n",
    "grad_zp1_zc = torch.autograd.grad(zp_predict1, zc, grad_outputs=torch.ones([N,]))\n",
    "print (zc.grad)\n",
    "zc.grad.zero_()\n",
    "grad_zp2_zc = torch.autograd.grad(zp_predict2, zc)\n",
    "print (zc.grad)\n",
    "zc.grad.zero_()\n",
    "grad_zp1_uc = torch.autograd.grad(zp_predict1, uc)\n",
    "print (uc.grad)\n",
    "uc.grad.zero_()\n",
    "grad_zp2_uc = torch.autograd.grad(zp_predict2, uc)\n",
    "print (uc.grad)\n",
    "uc.grad.zero_()"
   ]
  },
  {
   "cell_type": "code",
   "execution_count": 75,
   "metadata": {},
   "outputs": [
    {
     "name": "stdout",
     "output_type": "stream",
     "text": [
      "torch.Size([7, 2, 3])\n"
     ]
    }
   ],
   "source": [
    "x = torch.randn(7,3)\n",
    "y = torch.randn(7,3)\n",
    "stacked = torch.stack([x, y], dim=1)\n",
    "print (stacked.size())"
   ]
  },
  {
   "cell_type": "code",
   "execution_count": 76,
   "metadata": {},
   "outputs": [
    {
     "name": "stdout",
     "output_type": "stream",
     "text": [
      "torch.Size([7, 2, 3])\n"
     ]
    }
   ],
   "source": [
    "x = torch.randn(7, 3, 2)\n",
    "tr = torch.transpose(x, 1, 2)\n",
    "print (tr.size())"
   ]
  },
  {
   "cell_type": "code",
   "execution_count": 87,
   "metadata": {},
   "outputs": [
    {
     "name": "stdout",
     "output_type": "stream",
     "text": [
      "2\n",
      "torch.Size([7, 3, 1])\n"
     ]
    }
   ],
   "source": [
    "A = torch.randn(7, 3, 2)\n",
    "inp = torch.randn(7, 2)\n",
    "print(inp.dim())\n",
    "res = torch.bmm(A, inp.unsqueeze_(inp.dim()))\n",
    "print (res.size())"
   ]
  },
  {
   "cell_type": "code",
   "execution_count": 72,
   "metadata": {},
   "outputs": [
    {
     "name": "stdout",
     "output_type": "stream",
     "text": [
      "True\n",
      "False\n",
      "tensor([[5., 5., 2., 2.],\n",
      "        [5., 5., 2., 2.],\n",
      "        [5., 5., 2., 2.],\n",
      "        [5., 5., 2., 2.],\n",
      "        [5., 5., 2., 2.],\n",
      "        [5., 5., 2., 2.],\n",
      "        [5., 5., 2., 2.]], grad_fn=<CatBackward>)\n",
      "tensor([[0.0849, 0.9494],\n",
      "        [0.0849, 0.9494],\n",
      "        [0.0849, 0.9494],\n",
      "        [0.0849, 0.9494],\n",
      "        [0.0849, 0.9494],\n",
      "        [0.0849, 0.9494],\n",
      "        [0.0849, 0.9494]], grad_fn=<AddmmBackward>)\n",
      "tensor([[-0.3552,  0.4388],\n",
      "        [-0.3552,  0.4388],\n",
      "        [-0.3552,  0.4388],\n",
      "        [-0.3552,  0.4388],\n",
      "        [-0.3552,  0.4388],\n",
      "        [-0.3552,  0.4388],\n",
      "        [-0.3552,  0.4388]])\n",
      "tensor([[ 0.2613, -0.3125],\n",
      "        [ 0.2613, -0.3125],\n",
      "        [ 0.2613, -0.3125],\n",
      "        [ 0.2613, -0.3125],\n",
      "        [ 0.2613, -0.3125],\n",
      "        [ 0.2613, -0.3125],\n",
      "        [ 0.2613, -0.3125]])\n",
      "tensor([[-0.0939,  0.1263],\n",
      "        [-0.0939,  0.1263],\n",
      "        [-0.0939,  0.1263],\n",
      "        [-0.0939,  0.1263],\n",
      "        [-0.0939,  0.1263],\n",
      "        [-0.0939,  0.1263],\n",
      "        [-0.0939,  0.1263]])\n"
     ]
    }
   ],
   "source": [
    "# https://discuss.pytorch.org/t/calculate-individual-gradients-for-each-example-in-mini-batch/54470\n",
    "\n",
    "N, u_dim, z_dim, out_dim = 7, 2, 2, 2\n",
    "zc = torch.as_tensor(5 * np.ones((N, z_dim)), dtype=torch.float).requires_grad_()\n",
    "uc = torch.as_tensor(2 * np.ones((N, u_dim)), dtype=torch.float).requires_grad_()\n",
    "print (zc.is_leaf)\n",
    "input = torch.cat((zc, uc), dim=1).requires_grad_()\n",
    "print (input.is_leaf)\n",
    "print (input)\n",
    "layer = nn.Linear(z_dim + u_dim, out_dim)\n",
    "output = layer(input)\n",
    "print (output)\n",
    "\n",
    "o0 = output[:, 0]\n",
    "grad_op0_zc = torch.autograd.grad(o0, zc, grad_outputs=torch.ones(o0.size()), retain_graph=True)\n",
    "print (grad_op0_zc[0])\n",
    "o1 = output[:, 1]\n",
    "grad_op1_zc = torch.autograd.grad(o1, zc, grad_outputs=torch.ones(o1.size()), retain_graph=True)\n",
    "print (grad_op1_zc[0])\n",
    "\n",
    "grad_op_zc = torch.autograd.grad(output, zc, grad_outputs=torch.ones(output.size()), retain_graph=False)\n",
    "print (grad_op_zc[0])"
   ]
  },
  {
   "cell_type": "code",
   "execution_count": null,
   "metadata": {},
   "outputs": [],
   "source": []
  }
 ],
 "metadata": {
  "kernelspec": {
   "display_name": "pk-lsbmp",
   "language": "python",
   "name": "pk-lsbmp"
  },
  "language_info": {
   "codemirror_mode": {
    "name": "ipython",
    "version": 3
   },
   "file_extension": ".py",
   "mimetype": "text/x-python",
   "name": "python",
   "nbconvert_exporter": "python",
   "pygments_lexer": "ipython3",
   "version": "3.7.1"
  }
 },
 "nbformat": 4,
 "nbformat_minor": 2
}
