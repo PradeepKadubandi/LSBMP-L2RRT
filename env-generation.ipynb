{
 "cells": [
  {
   "cell_type": "code",
   "execution_count": 2,
   "metadata": {},
   "outputs": [],
   "source": [
    "from shapely.geometry import *\n",
    "import matplotlib.pyplot as plt\n",
    "import numpy as np\n",
    "import matplotlib"
   ]
  },
  {
   "cell_type": "code",
   "execution_count": 3,
   "metadata": {},
   "outputs": [],
   "source": [
    "default_cmap = matplotlib.cm.get_cmap('viridis')"
   ]
  },
  {
   "cell_type": "code",
   "execution_count": 5,
   "metadata": {},
   "outputs": [],
   "source": [
    "class VisualEnvironment:\n",
    "    def __init__(self, size=32, includeRobot=True):\n",
    "        self.size = size\n",
    "        self.num_obstacles = np.random.randint(low=2, high=7)\n",
    "        self.type_obstacle = np.random.randint(0, 2, size=self.num_obstacles)\n",
    "        self.center_obstacles = self.size * np.random.rand(self.num_obstacles, 2)\n",
    "        # spec: Radius for circle and half_length for square\n",
    "        # Min value is 2 and maximum 8\n",
    "        self.spec_obstacle = 2 + 6 * np.random.rand(self.num_obstacles)\n",
    "        # Clip the obstacle size not to exceed boundaries\n",
    "        upper_bounds = self.size - self.center_obstacles\n",
    "        self.spec_obstacle = np.min(np.stack((self.spec_obstacle,\n",
    "                                              self.center_obstacles[:,0],\n",
    "                                              self.center_obstacles[:,1],\n",
    "                                              upper_bounds[:,0],\n",
    "                                              upper_bounds[:,1]),axis=1), axis=1)\n",
    "        self.robot_hl = 0.5\n",
    "        self.robot_center = self.size * np.random.rand(2)\n",
    "        self.includeRobot = includeRobot\n",
    "    \n",
    "    def build(self):\n",
    "        '''\n",
    "        Builds the shapely objects corresponding to this environment\n",
    "        '''\n",
    "        self.world = box(0.0, 0.0, self.size, self.size)\n",
    "        self.obstacles = []\n",
    "        for i in range(self.num_obstacles):\n",
    "            if self.type_obstacle[i] == 0:\n",
    "                obs = self.make_box(self.center_obstacles[i, :], self.spec_obstacle[i])\n",
    "            else:\n",
    "                obs = self.make_circle(self.center_obstacles[i, :], self.spec_obstacle[i])\n",
    "            self.obstacles.append(obs)\n",
    "        self.robot = None\n",
    "        if self.includeRobot:\n",
    "            self.robot = self.make_box(self.robot_center, self.robot_hl)\n",
    "  \n",
    "    def build_array(self):\n",
    "        '''\n",
    "        Builds a numpy array with different integer range values for empty space, obstacles, robot\n",
    "        '''\n",
    "        self.data = np.random.randint(0, 10, size=(self.size,self.size))\n",
    "        for x in range(self.size):\n",
    "            for y in range(self.size):\n",
    "                p = Point(x, y)\n",
    "                if self.includeRobot and self.robot.contains(p):\n",
    "                    self.data[x, y] = np.random.randint(170, 195)\n",
    "                else:\n",
    "                    for obs in self.obstacles:\n",
    "                        if obs.contains(p):\n",
    "                            self.data[x, y] = np.random.randint(100, 120)\n",
    "                            break\n",
    "    \n",
    "    def plot(self):\n",
    "        '''\n",
    "        Uses matplotlib to plot directly shapely objects.\n",
    "        '''\n",
    "        self.build()\n",
    "        fig = plt.figure()\n",
    "        plt.fill(*self.world.exterior.xy, 'g')\n",
    "        for obs in self.obstacles:\n",
    "            plt.fill(*obs.exterior.xy, 'b')\n",
    "        if self.robot is not None:\n",
    "            plt.fill(*self.robot.exterior.xy, 'y')\n",
    "        plt.show()\n",
    "    \n",
    "    def plot2(self):\n",
    "        '''\n",
    "        Plots the raw data generated after build_array\n",
    "        '''\n",
    "        mycmap = matplotlib.cm.get_cmap('viridis')\n",
    "\n",
    "        self.build()\n",
    "        self.build_array()\n",
    "        plt.imshow(self.data, cmap = mycmap)\n",
    "        \n",
    "    def make_box(self, center, half_length):\n",
    "#         clipped_hl = min([half_length, center[0], center[1], self.size-center[0], self.size-center[1]])\n",
    "        return box(center[0]-half_length, center[1]-half_length, center[0]+half_length, center[1]+half_length)\n",
    "\n",
    "    def make_circle(self, center, radius):\n",
    "#         clipped_radius = min([radius, center[0], center[1], self.size-center[0], self.size-center[1]])\n",
    "        return Point(center[0], center[1]).buffer(radius)"
   ]
  },
  {
   "cell_type": "code",
   "execution_count": 6,
   "metadata": {},
   "outputs": [
    {
     "data": {
      "image/png": "[encoded data removed]",
      "text/plain": [
       "<Figure size 432x288 with 1 Axes>"
      ]
     },
     "metadata": {
      "needs_background": "light"
     },
     "output_type": "display_data"
    },
    {
     "data": {
      "image/png": "[encoded data removed]",
      "text/plain": [
       "<Figure size 432x288 with 1 Axes>"
      ]
     },
     "metadata": {
      "needs_background": "light"
     },
     "output_type": "display_data"
    }
   ],
   "source": [
    "env1 = VisualEnvironment()\n",
    "env1.plot2()\n",
    "env1.plot()"
   ]
  },
  {
   "cell_type": "code",
   "execution_count": 7,
   "metadata": {},
   "outputs": [
    {
     "data": {
      "image/png": "[encoded data removed]",
      "text/plain": [
       "<Figure size 432x288 with 1 Axes>"
      ]
     },
     "metadata": {
      "needs_background": "light"
     },
     "output_type": "display_data"
    },
    {
     "data": {
      "image/png": "[encoded data removed]",
      "text/plain": [
       "<Figure size 432x288 with 1 Axes>"
      ]
     },
     "metadata": {
      "needs_background": "light"
     },
     "output_type": "display_data"
    }
   ],
   "source": [
    "env2 = VisualEnvironment(includeRobot=False)\n",
    "env2.plot()\n",
    "env2.plot2()"
   ]
  },
  {
   "cell_type": "code",
   "execution_count": null,
   "metadata": {},
   "outputs": [],
   "source": [
    "#### Additional exploratory code for saving matplotlib figure as numpy array..."
   ]
  },
  {
   "cell_type": "code",
   "execution_count": 44,
   "metadata": {},
   "outputs": [
    {
     "name": "stdout",
     "output_type": "stream",
     "text": [
      "Figure(432x288)\n"
     ]
    }
   ],
   "source": [
    "print (fig)"
   ]
  },
  {
   "cell_type": "code",
   "execution_count": null,
   "metadata": {},
   "outputs": [],
   "source": [
    "fig.canvas.draw()\n",
    "w,h = fig.canvas.get_width_height()\n",
    "print ('{} x {}'.format(w, h))\n",
    "buf = fig.canvas.tostring_argb()\n",
    "print (len(buf))\n",
    "print (buf[0:10])\n",
    "buf_arr = np.frombuffer(buf, dtype=np.uint8)\n",
    "print (buf_arr.shape)\n",
    "print (buf_arr[0:10])\n",
    "\n",
    "buf = fig.canvas.print_to_buffer()\n",
    "print (buf)"
   ]
  },
  {
   "cell_type": "code",
   "execution_count": 36,
   "metadata": {},
   "outputs": [],
   "source": [
    "def fig2data ( fig ):\n",
    "    \"\"\"\n",
    "    @brief Convert a Matplotlib figure to a 4D numpy array with RGBA channels and return it\n",
    "    @param fig a matplotlib figure\n",
    "    @return a numpy 3D array of RGBA values\n",
    "    \"\"\"\n",
    "    # draw the renderer\n",
    "    fig.canvas.draw ( )\n",
    " \n",
    "    # Get the RGBA buffer from the figure\n",
    "    w,h = fig.canvas.get_width_height()\n",
    "    buf = np.fromstring ( fig.canvas.tostring_argb(), dtype=np.uint8 )\n",
    "    buf.shape = ( w, h,4 )\n",
    " \n",
    "    # canvas.tostring_argb give pixmap in ARGB mode. Roll the ALPHA channel to have it in RGBA mode\n",
    "    buf = np.roll ( buf, 3, axis = 2 )\n",
    "    return buf"
   ]
  },
  {
   "cell_type": "code",
   "execution_count": 38,
   "metadata": {},
   "outputs": [
    {
     "name": "stderr",
     "output_type": "stream",
     "text": [
      "/Users/pradeepkadubandi/.local/share/virtualenvs/LSBMP-L2RRT-AlqjJP_-/lib/python3.7/site-packages/ipykernel_launcher.py:12: DeprecationWarning: The binary mode of fromstring is deprecated, as it behaves surprisingly on unicode inputs. Use frombuffer instead\n",
      "  if sys.path[0] == '':\n"
     ]
    },
    {
     "data": {
      "text/plain": [
       "(432, 288, 4)"
      ]
     },
     "execution_count": 38,
     "metadata": {},
     "output_type": "execute_result"
    }
   ],
   "source": [
    "fig_arr = fig2data(fig)\n",
    "fig_arr.shape"
   ]
  },
  {
   "cell_type": "code",
   "execution_count": null,
   "metadata": {},
   "outputs": [],
   "source": [
    "# Exploratory code for playing with normal distribution "
   ]
  },
  {
   "cell_type": "code",
   "execution_count": 10,
   "metadata": {},
   "outputs": [
    {
     "name": "stdout",
     "output_type": "stream",
     "text": [
      "[[0 0 0 ... 0 0 0]\n",
      " [0 0 0 ... 0 0 0]\n",
      " [0 0 0 ... 0 0 0]\n",
      " ...\n",
      " [0 0 0 ... 0 0 0]\n",
      " [0 0 0 ... 0 0 0]\n",
      " [0 0 0 ... 0 0 0]]\n"
     ]
    },
    {
     "data": {
      "image/png": "[encoded data removed]",
      "text/plain": [
       "<Figure size 432x288 with 1 Axes>"
      ]
     },
     "metadata": {
      "needs_background": "light"
     },
     "output_type": "display_data"
    }
   ],
   "source": [
    "data = np.zeros((32,32), dtype=np.uint8)\n",
    "center = np.array([16, 16])\n",
    "var = 30\n",
    "peak = 60\n",
    "it = np.nditer(data, flags=['multi_index'], op_flags=['readwrite'])\n",
    "while not it.finished:\n",
    "    # distance = np.sum((center-it.multi_index) ** 2)  # Circular shape\n",
    "    distance = np.max(np.abs(center-it.multi_index)) ** 2   # Square shape\n",
    "    prob = np.exp(-distance/(2*var)) / np.sqrt(2 * np.pi * var)\n",
    "    data[it.multi_index] = int(peak * prob)\n",
    "    it.iternext()\n",
    "    \n",
    "plt.imshow(data, cmap=default_cmap)\n",
    "print (data)"
   ]
  },
  {
   "cell_type": "code",
   "execution_count": 4,
   "metadata": {},
   "outputs": [
    {
     "name": "stdout",
     "output_type": "stream",
     "text": [
      "viridis\n"
     ]
    }
   ],
   "source": [
    "print (matplotlib.rcParams['image.cmap'])"
   ]
  }
 ],
 "metadata": {
  "kernelspec": {
   "display_name": "pk-lsbmp",
   "language": "python",
   "name": "pk-lsbmp"
  },
  "language_info": {
   "codemirror_mode": {
    "name": "ipython",
    "version": 3
   },
   "file_extension": ".py",
   "mimetype": "text/x-python",
   "name": "python",
   "nbconvert_exporter": "python",
   "pygments_lexer": "ipython3",
   "version": "3.7.1"
  }
 },
 "nbformat": 4,
 "nbformat_minor": 2
}
